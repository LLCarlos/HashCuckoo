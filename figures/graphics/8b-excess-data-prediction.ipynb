{
 "cells": [
  {
   "cell_type": "markdown",
   "metadata": {},
   "source": [
    "# Prediction Menchanism - Excess data\n",
    "\n",
    "### Figure 8(b)"
   ]
  },
  {
   "cell_type": "code",
   "execution_count": 1,
   "metadata": {},
   "outputs": [
    {
     "data": {
      "image/png": "[encoded data removed]",
      "text/plain": [
       "<Figure size 504x288 with 1 Axes>"
      ]
     },
     "metadata": {
      "needs_background": "light"
     },
     "output_type": "display_data"
    }
   ],
   "source": [
    "\"\"\"\n",
    "========\n",
    "Prediction Menchanism - Excess Data\n",
    "========\n",
    "\n",
    "\"\"\"\n",
    "import numpy as np\n",
    "import matplotlib.pyplot as plt\n",
    "import pylab as pyl\n",
    "from matplotlib import rc\n",
    "import pickle as p\n",
    "\n",
    "rc('text', usetex=True)\n",
    "plt.rcParams[\"font.family\"] = \"Times New Roman\"\n",
    "\n",
    "ll = np.array([2,3,4,5,6])\n",
    "\n",
    "N = 9\n",
    "SIZE  =16\n",
    "\n",
    "dataDP   = [36.56, 37.43, 37.88, 57.16, 82.73]      #Data plane\n",
    "intervDP = [4.40, 4.88, 5.36, 6.32, 10.14]          #Confidence interval\n",
    "dataCP   = [67.20, 68.30, 71.60, 136.10, 196.50]    #Control plane\n",
    "intervCP = [6.42, 7.28, 8.36, 9.13, 15.14]          #Confidence interval\n",
    "\n",
    "\n",
    "ind = np.arange(N)  # the x locations for the groups\n",
    "width = 0.35    # the width of the bars\n",
    "fig, ax = plt.subplots(figsize=(7, 4))\n",
    "\n",
    "\n",
    "rects1 = ax.bar(ll-0.2, dataDP,width, color='#cfd8dc', edgecolor='#212121', alpha=1, yerr=intervDP, linestyle='-', hatch=\"//\", capsize=5, label='Data Plane')\n",
    "\n",
    "rects2 = ax.bar(ll+0.2, dataCP,width, color='#82b3c9', edgecolor='#212121', alpha=1, yerr=intervCP, linestyle='-', hatch=\"\\\\\\\\\", capsize=5, label='Control Plane')\n",
    "\n",
    "\n",
    "# add some text for labels, title and axes ticks\n",
    "plt.xticks(fontsize=SIZE)\n",
    "plt.yticks(fontsize=SIZE)\n",
    "ax.set_ylabel('Average Excess Data (KB)' , fontsize=SIZE)\n",
    "ax.set_xlabel('Number of Samples (previous flows)' , fontsize=SIZE)\n",
    "ax.set_xticks(ll)\n",
    "ax.set_xticklabels(( 16, 64, 256, 1024, 4096), fontsize=SIZE, rotation=0)\n",
    "\n",
    "\n",
    "ax.legend(loc=2, prop={'size':SIZE-4}, edgecolor='black')\n",
    "ax.set_ylim(ymin=0, ymax=250)\n",
    "ax.tick_params(direction='out', length=8)\n",
    "ax.tick_params( which='minor', direction='out', length=5)\n",
    "\n",
    "\n",
    "ax.set_axisbelow(True)\n",
    "\n",
    "# Hide the right and top spines\n",
    "ax.spines['right'].set_visible(False)\n",
    "ax.spines['top'].set_visible(False)\n",
    "\n",
    "def autolabel(rects):\n",
    "    \"\"\"\n",
    "    Attach a text label above each bar displaying its height\n",
    "    \"\"\"\n",
    "    for rect in rects:\n",
    "        height = rect.get_height()\n",
    "        ax.text(rect.get_x() + rect.get_width()/2., 1.15*height if height < 90 else 1.10*height,\n",
    "                '%.1f' % float(height),\n",
    "                ha='center', va='bottom', color='#000000', fontsize=SIZE-4)\n",
    "\n",
    "autolabel(rects1)\n",
    "autolabel(rects2)\n",
    "\n",
    "fig.tight_layout()\n",
    "plt.show()\n",
    "fig.savefig(\"fig/excess-data-prediction.pdf\")"
   ]
  }
 ],
 "metadata": {
  "kernelspec": {
   "display_name": "Python 3",
   "language": "python",
   "name": "python3"
  },
  "language_info": {
   "codemirror_mode": {
    "name": "ipython",
    "version": 3
   },
   "file_extension": ".py",
   "mimetype": "text/x-python",
   "name": "python",
   "nbconvert_exporter": "python",
   "pygments_lexer": "ipython3",
   "version": "3.8.3"
  },
  "latex_envs": {
   "LaTeX_envs_menu_present": true,
   "autoclose": false,
   "autocomplete": true,
   "bibliofile": "biblio.bib",
   "cite_by": "apalike",
   "current_citInitial": 1,
   "eqLabelWithNumbers": true,
   "eqNumInitial": 1,
   "hotkeys": {
    "equation": "Ctrl-E",
    "itemize": "Ctrl-I"
   },
   "labels_anchors": false,
   "latex_user_defs": false,
   "report_style_numbering": false,
   "user_envs_cfg": false
  }
 },
 "nbformat": 4,
 "nbformat_minor": 4
}
