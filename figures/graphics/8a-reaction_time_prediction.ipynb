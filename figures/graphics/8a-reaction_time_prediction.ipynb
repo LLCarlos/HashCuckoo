{
 "cells": [
  {
   "cell_type": "markdown",
   "metadata": {},
   "source": [
    "# Prediction Menchanism - Reaction Time\n",
    "\n",
    "### Figure 8(a)"
   ]
  },
  {
   "cell_type": "code",
   "execution_count": 1,
   "metadata": {},
   "outputs": [
    {
     "data": {
      "image/png": "[encoded data removed]",
      "text/plain": [
       "<Figure size 504x288 with 1 Axes>"
      ]
     },
     "metadata": {
      "needs_background": "light"
     },
     "output_type": "display_data"
    }
   ],
   "source": [
    "\"\"\"\n",
    "========\n",
    "Prediction Menchanism - Reaction Time\n",
    "========\n",
    "\n",
    "\"\"\"\n",
    "import numpy as np\n",
    "import matplotlib.pyplot as plt\n",
    "import pylab as pyl\n",
    "from matplotlib import rc\n",
    "import pickle as p\n",
    "\n",
    "rc('text', usetex=True)\n",
    "plt.rcParams[\"font.family\"] = \"Times New Roman\"\n",
    "\n",
    "\n",
    "ll = np.array([2,3,4,5,6])\n",
    "\n",
    "N = 9\n",
    "SIZE  =16\n",
    "\n",
    "dataDP   = [17.843, 18.058, 18.222, 28.602, 43.068]     #Data plane\n",
    "intervDP = [1.82, 1.99, 2.23, 2.65, 4.14]               #Confidence interval\n",
    "dataCP   = [32.800, 34.201, 35.812, 68.105, 102.312]    #Control plane\n",
    "intervCP = [2.42, 2.78, 2.96, 3.13, 5.14]               #Confidence interval\n",
    "\n",
    "ind = np.arange(N)  # the x locations for the groups\n",
    "width = 0.35        # the width of the bars\n",
    "fig, ax = plt.subplots(figsize=(7, 4))\n",
    "\n",
    "rects1 = ax.bar(ll-0.2, dataDP,width, color='#cfd8dc',  edgecolor='#212121', alpha=1, yerr=intervDP, hatch=\"//\", capsize=13, label='Data Plane')\n",
    "\n",
    "rects2 = ax.bar(ll+0.2, dataCP,width, color='#82b3c9', edgecolor='#212121', alpha=1, yerr=intervCP, linestyle='-', hatch=\"\\\\\\\\\", capsize=13, label='Control Plane')\n",
    "\n",
    "#Differences\n",
    "##### LABEL \n",
    "ax.errorbar((1.55,),(((dataCP[0]-dataDP[0])/2)+dataDP[0],), yerr=((dataCP[0]-dataDP[0])/2), ecolor='red', linestyle='-.',  mew=1,capsize=8, label=None)\n",
    "ax.text(1.65, (dataCP[0]),\"45.6\\%\",\n",
    "                ha='center', va='bottom', color='red', fontsize=SIZE-4)\n",
    "\n",
    "ax.errorbar((5.55,),(((dataCP[4]-dataDP[4])/2)+dataDP[4],), yerr=((dataCP[4]-dataDP[4])/2), ecolor='red', linestyle='-.',  mew=1,capsize=8, label=None)\n",
    "ax.text(5.15, ((dataCP[4]-dataDP[4])/2)+dataDP[4]+12,\"57,9\\%\",\n",
    "                ha='center', va='bottom', color='red', fontsize=SIZE-4)\n",
    "\n",
    "\n",
    "\n",
    "plt.xticks(fontsize=SIZE)\n",
    "plt.yticks(fontsize=SIZE)\n",
    "ax.set_ylabel('Average Reaction Time (ms)' , fontsize=SIZE)\n",
    "ax.set_xlabel('Number of Samples (previous flows)' , fontsize=SIZE)\n",
    "ax.set_xticks(ll)\n",
    "ax.set_xticklabels(( 16, 64, 256, 1024, 4096), fontsize=SIZE, rotation=0)\n",
    "\n",
    "ax.legend(loc=2, prop={'size': SIZE-4}, edgecolor='black')\n",
    "\n",
    "ax.set_ylim(ymin=0, ymax=120)\n",
    "ax.tick_params(direction='out', length=8)\n",
    "ax.tick_params( which='minor', direction='out', length=5)\n",
    "ax.set_axisbelow(True)\n",
    "\n",
    "# Hide the right and top spines\n",
    "ax.spines['right'].set_visible(False)\n",
    "ax.spines['top'].set_visible(False)\n",
    "\n",
    "def autolabel(rects):\n",
    "    \"\"\"\n",
    "    Attach a text label above each bar displaying its height\n",
    "    \"\"\"\n",
    "    for rect in rects:\n",
    "        height = rect.get_height()\n",
    "        ax.text(rect.get_x() + rect.get_width()/2., 1.10*height if height < 100 else 1.06*height ,\n",
    "                '%.1f' % float(height),\n",
    "                ha='center', va='bottom', color='#000000', fontsize=SIZE-4)\n",
    "\n",
    "autolabel(rects1)\n",
    "autolabel(rects2)\n",
    "\n",
    "fig.tight_layout()\n",
    "plt.show()\n",
    "fig.savefig(\"fig/reaction-time-prediction.pdf\")\n",
    "\n"
   ]
  }
 ],
 "metadata": {
  "kernelspec": {
   "display_name": "Python 3",
   "language": "python",
   "name": "python3"
  },
  "language_info": {
   "codemirror_mode": {
    "name": "ipython",
    "version": 3
   },
   "file_extension": ".py",
   "mimetype": "text/x-python",
   "name": "python",
   "nbconvert_exporter": "python",
   "pygments_lexer": "ipython3",
   "version": "3.8.3"
  },
  "latex_envs": {
   "LaTeX_envs_menu_present": true,
   "autoclose": false,
   "autocomplete": true,
   "bibliofile": "biblio.bib",
   "cite_by": "apalike",
   "current_citInitial": 1,
   "eqLabelWithNumbers": true,
   "eqNumInitial": 1,
   "hotkeys": {
    "equation": "Ctrl-E",
    "itemize": "Ctrl-I"
   },
   "labels_anchors": false,
   "latex_user_defs": false,
   "report_style_numbering": false,
   "user_envs_cfg": false
  }
 },
 "nbformat": 4,
 "nbformat_minor": 4
}
