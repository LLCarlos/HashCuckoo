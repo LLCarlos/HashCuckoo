{
 "cells": [
  {
   "cell_type": "markdown",
   "metadata": {},
   "source": [
    "# Hash Analysis - Pipeline processing time\n",
    "\n",
    "#### Figure 7(a)\n"
   ]
  },
  {
   "cell_type": "code",
   "execution_count": 1,
   "metadata": {},
   "outputs": [
    {
     "data": {
      "image/png": "[encoded data removed]",
      "text/plain": [
       "<Figure size 324x288 with 1 Axes>"
      ]
     },
     "metadata": {
      "needs_background": "light"
     },
     "output_type": "display_data"
    }
   ],
   "source": [
    "\"\"\"\n",
    "========\n",
    "Hash Analysis - Pipeline processing time\n",
    "========\n",
    "\n",
    "\"\"\"\n",
    "import numpy as np\n",
    "import matplotlib.pyplot as plt\n",
    "import pylab as pyl\n",
    "from mpl_toolkits.axes_grid1.inset_locator import zoomed_inset_axes \n",
    "from mpl_toolkits.axes_grid1.inset_locator import mark_inset\n",
    "from matplotlib import rc\n",
    "\n",
    "rc('text', usetex=True)\n",
    "plt.rcParams[\"font.family\"] = \"Times New Roman\"\n",
    "\n",
    "ll  = [2,3, 4]\n",
    "ll = np.array(ll)\n",
    "\n",
    "SIZE  =18\n",
    "\n",
    "only_forwarding = 0.216\n",
    "ideafix = 0.328\n",
    "hashCuckoo = 0.398\n",
    "yerr= [0.0487,0.0451, 0.0449]\n",
    "\n",
    "width = 0.35    # the width of the bars\n",
    "fig, ax = plt.subplots(figsize=(4.5, 4))\n",
    "\n",
    "#HashCuckoo\n",
    "rects1 = ax.bar(ll[0], hashCuckoo,width, color='w',  edgecolor='black', alpha=1, yerr=yerr[0], hatch=\"//\", capsize=15, label='HashCuckoo')\n",
    "\n",
    "#Ideafix\n",
    "rects2 = ax.bar(ll[1], ideafix,width, color='w', edgecolor='#3F7BA8', alpha=1, yerr=yerr[1], linestyle='-', hatch='xx', capsize=15, label='IDEAFIX')\n",
    "\n",
    "\n",
    "#Only Forwarding\n",
    "rects3 = ax.bar(ll[2], only_forwarding,width, color='w', edgecolor='#00796b', alpha=1, yerr=yerr[2], linestyle='-', hatch='--', capsize=15, label='Only forwarding')\n",
    "\n",
    "\n",
    "plt.xticks(fontsize=SIZE)\n",
    "plt.yticks(fontsize=SIZE)\n",
    "ax.set_xticks(ll)\n",
    "ax.set_xticklabels(( 'HashCuckoo', 'IDEAFIX', 'Only\\nforwarding'), fontsize=SIZE, rotation=0)\n",
    "ax.set_ylabel('Processing Pipeline Time (ms)' , fontsize=SIZE)\n",
    "\n",
    "ax.legend(loc=2, prop={'size': SIZE-5}, edgecolor='black')\n",
    "\n",
    "ax.set_ylim(ymin=0, ymax=1.0)\n",
    "ax.tick_params(direction='out', length=8)\n",
    "ax.tick_params( which='minor', direction='out', length=5)\n",
    "\n",
    "ax.set_axisbelow(True)\n",
    "\n",
    "# Hide the right and top spines\n",
    "ax.spines['right'].set_visible(False)\n",
    "ax.spines['top'].set_visible(False)\n",
    "\n",
    "\n",
    "def autolabel(rects):\n",
    "    \"\"\"\n",
    "    Attach a text label above each bar displaying its height\n",
    "    \"\"\"\n",
    "    for rect in rects:\n",
    "        height = rect.get_height()\n",
    "        ax.text(rect.get_x() + rect.get_width()/2., 1.25*height if height < 100 else 1.06*height ,\n",
    "                '%.3f' % float(height),\n",
    "                ha='center', va='bottom', color='#000000', fontsize=SIZE-4)\n",
    "\n",
    "\n",
    "autolabel(rects1)\n",
    "autolabel(rects2)\n",
    "autolabel(rects3)\n",
    "\n",
    "fig.tight_layout()\n",
    "plt.show()\n",
    "fig.savefig(\"fig/processing-pipeline-time.pdf\")\n",
    "\n"
   ]
  }
 ],
 "metadata": {
  "kernelspec": {
   "display_name": "Python 3",
   "language": "python",
   "name": "python3"
  },
  "language_info": {
   "codemirror_mode": {
    "name": "ipython",
    "version": 3
   },
   "file_extension": ".py",
   "mimetype": "text/x-python",
   "name": "python",
   "nbconvert_exporter": "python",
   "pygments_lexer": "ipython3",
   "version": "3.8.3"
  },
  "latex_envs": {
   "LaTeX_envs_menu_present": true,
   "autoclose": false,
   "autocomplete": true,
   "bibliofile": "biblio.bib",
   "cite_by": "apalike",
   "current_citInitial": 1,
   "eqLabelWithNumbers": true,
   "eqNumInitial": 1,
   "hotkeys": {
    "equation": "Ctrl-E",
    "itemize": "Ctrl-I"
   },
   "labels_anchors": false,
   "latex_user_defs": false,
   "report_style_numbering": false,
   "user_envs_cfg": false
  }
 },
 "nbformat": 4,
 "nbformat_minor": 4
}
